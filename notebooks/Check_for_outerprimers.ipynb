{
 "cells": [
  {
   "cell_type": "markdown",
   "metadata": {},
   "source": [
    "# Checking for outer amplification product"
   ]
  },
  {
   "cell_type": "code",
   "execution_count": 1,
   "metadata": {
    "collapsed": true
   },
   "outputs": [],
   "source": [
    "# William paths\n",
    "workDir = \"/home/be68/SorghumAMF/05072018newsetITS\"\n",
    "input_pacbio_raw = 'CPAAZ_pbr4866_pass5_Test4_AMFmix_2018.fastq' #raw pac bio reads\n",
    "primers = \"CPAAZ_adaptor.fasta\" #fasta file of unique barcodes and sample IDs"
   ]
  },
  {
   "cell_type": "code",
   "execution_count": 2,
   "metadata": {
    "collapsed": true
   },
   "outputs": [],
   "source": [
    "# #mackbook paths\n",
    "# workDir = \"/home/be68/SorghumAMF/05072018newsetITS\"\n",
    "# input_pacbio_raw = 'CPAAZ_pbr4866_pass5_Test4_AMFmix_2018.fastq' #raw pac bio reads\n",
    "# primers = \"CPAAZ_adaptor.fasta\" #fasta file of unique barcodes and sample IDs"
   ]
  },
  {
   "cell_type": "code",
   "execution_count": 3,
   "metadata": {
    "collapsed": true
   },
   "outputs": [],
   "source": [
    "import os, re\n",
    "import pandas as pd\n",
    "from Bio import SeqIO\n",
    "#from cogent import DNA, LoadSeqs"
   ]
  },
  {
   "cell_type": "code",
   "execution_count": 4,
   "metadata": {
    "collapsed": true
   },
   "outputs": [],
   "source": [
    "if not os.path.isdir(workDir):\n",
    "    os.mkdir(workDir)"
   ]
  },
  {
   "cell_type": "code",
   "execution_count": 5,
   "metadata": {
    "collapsed": true
   },
   "outputs": [],
   "source": [
    "os.chdir(workDir)"
   ]
  },
  {
   "cell_type": "code",
   "execution_count": 7,
   "metadata": {
    "collapsed": true
   },
   "outputs": [],
   "source": [
    "primerlist = [\"TGGGTAATCTTTTGAAACTTYA\", \"TGGGTAATCTTRTGAAACTTCA\", \"GCTCACACTCAAATCTATCAAA\",\n",
    "             \"GCTCTAACTCAATTCTATCGAT\", \"TGCTCTTACTCAAATCTATCAAA\",\"GCTCTTACTCAAACCTATCGA\"]"
   ]
  },
  {
   "cell_type": "code",
   "execution_count": 10,
   "metadata": {},
   "outputs": [
    {
     "data": {
      "text/plain": [
       "56"
      ]
     },
     "execution_count": 10,
     "metadata": {},
     "output_type": "execute_result"
    }
   ],
   "source": [
    "from Bio import Seq\n",
    "from Bio import SeqUtils\n",
    "from Bio.SeqUtils import nt_search\n",
    "\n",
    "\n",
    "counter = 0\n",
    "\n",
    "for record in SeqIO.parse(input_pacbio_raw, \"fastq\"):\n",
    "    for primer in primerlist:\n",
    "        try:\n",
    "            nt_search(str(record), primer)[1] > 0\n",
    "            counter = counter + 1\n",
    "           #print(record)\n",
    "            continue\n",
    "        except:\n",
    "            counter = counter\n",
    "        \n",
    "        try:\n",
    "            nt_search(str(record), primer.reverse_complement())[1] > 0\n",
    "            counter = counter + 1\n",
    "            #print(record)\n",
    "            continue\n",
    "        except:\n",
    "            counter = counter\n",
    "\n",
    "counter    "
   ]
  }
 ],
 "metadata": {
  "kernelspec": {
   "display_name": "Python 3",
   "language": "python",
   "name": "python3"
  },
  "language_info": {
   "codemirror_mode": {
    "name": "ipython",
    "version": 3
   },
   "file_extension": ".py",
   "mimetype": "text/x-python",
   "name": "python",
   "nbconvert_exporter": "python",
   "pygments_lexer": "ipython3",
   "version": "3.6.3"
  }
 },
 "nbformat": 4,
 "nbformat_minor": 2
}
