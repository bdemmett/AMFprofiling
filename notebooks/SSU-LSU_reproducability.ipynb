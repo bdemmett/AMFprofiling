{
 "cells": [
  {
   "cell_type": "markdown",
   "metadata": {},
   "source": [
    "# Evaluate reproducability "
   ]
  },
  {
   "cell_type": "code",
   "execution_count": 1,
   "metadata": {},
   "outputs": [],
   "source": [
    "countFile = '/Users/bryanemmett/Box/research/BTI/DOE_SorghumMicrobiome/AMF_PacBio/AMFprofiling/data/usearch_OTU_count_tax_id97.txt'\n",
    "#TaxFile = '/Users/bryanemmett/Box/research/BTI/DOE_SorghumMicrobiome/AMF_PacBio/AMFprofiling/data/all_re_filtered_lensort_OTU_id97_sintax_rm_unidentifiedG.txt'\n",
    "metadataFile = '/Users/bryanemmett/Box/research/BTI/DOE_SorghumMicrobiome/AMF_PacBio/AMFprofiling/Test4_metadata.txt'\n",
    "workDir = '~/Box/research/BTI/DOE_SorghumMicrobiome/AMF_PacBio/AMFprofiling/data/'"
   ]
  },
  {
   "cell_type": "code",
   "execution_count": 2,
   "metadata": {},
   "outputs": [],
   "source": [
    "%load_ext rpy2.ipython"
   ]
  },
  {
   "cell_type": "code",
   "execution_count": 1,
   "metadata": {},
   "outputs": [],
   "source": [
    "# %%R\n",
    "# library(devtools)\n",
    "# install_github(\"jfq3/RDPutils\")"
   ]
  },
  {
   "cell_type": "code",
   "execution_count": 9,
   "metadata": {},
   "outputs": [
    {
     "name": "stderr",
     "output_type": "stream",
     "text": [
      "/anaconda3/lib/python3.6/site-packages/rpy2/rinterface/__init__.py:145: RRuntimeWarning: Loading required package: reshape2\n",
      "\n",
      "  warnings.warn(x, RRuntimeWarning)\n",
      "/anaconda3/lib/python3.6/site-packages/rpy2/rinterface/__init__.py:145: RRuntimeWarning: \n",
      "Attaching package: ‘reshape2’\n",
      "\n",
      "\n",
      "  warnings.warn(x, RRuntimeWarning)\n",
      "/anaconda3/lib/python3.6/site-packages/rpy2/rinterface/__init__.py:145: RRuntimeWarning: The following object is masked from ‘package:tidyr’:\n",
      "\n",
      "    smiths\n",
      "\n",
      "\n",
      "  warnings.warn(x, RRuntimeWarning)\n",
      "/anaconda3/lib/python3.6/site-packages/rpy2/rinterface/__init__.py:145: RRuntimeWarning: Loading required package: Biostrings\n",
      "\n",
      "  warnings.warn(x, RRuntimeWarning)\n",
      "/anaconda3/lib/python3.6/site-packages/rpy2/rinterface/__init__.py:145: RRuntimeWarning: Loading required package: BiocGenerics\n",
      "\n",
      "  warnings.warn(x, RRuntimeWarning)\n",
      "/anaconda3/lib/python3.6/site-packages/rpy2/rinterface/__init__.py:145: RRuntimeWarning: Loading required package: parallel\n",
      "\n",
      "  warnings.warn(x, RRuntimeWarning)\n",
      "/anaconda3/lib/python3.6/site-packages/rpy2/rinterface/__init__.py:145: RRuntimeWarning: \n",
      "Attaching package: ‘BiocGenerics’\n",
      "\n",
      "\n",
      "  warnings.warn(x, RRuntimeWarning)\n",
      "/anaconda3/lib/python3.6/site-packages/rpy2/rinterface/__init__.py:145: RRuntimeWarning: The following objects are masked from ‘package:parallel’:\n",
      "\n",
      "    clusterApply, clusterApplyLB, clusterCall, clusterEvalQ,\n",
      "    clusterExport, clusterMap, parApply, parCapply, parLapply,\n",
      "    parLapplyLB, parRapply, parSapply, parSapplyLB\n",
      "\n",
      "\n",
      "  warnings.warn(x, RRuntimeWarning)\n",
      "/anaconda3/lib/python3.6/site-packages/rpy2/rinterface/__init__.py:145: RRuntimeWarning: The following objects are masked from ‘package:dplyr’:\n",
      "\n",
      "    combine, intersect, setdiff, union\n",
      "\n",
      "\n",
      "  warnings.warn(x, RRuntimeWarning)\n",
      "/anaconda3/lib/python3.6/site-packages/rpy2/rinterface/__init__.py:145: RRuntimeWarning: The following objects are masked from ‘package:stats’:\n",
      "\n",
      "    IQR, mad, sd, var, xtabs\n",
      "\n",
      "\n",
      "  warnings.warn(x, RRuntimeWarning)\n",
      "/anaconda3/lib/python3.6/site-packages/rpy2/rinterface/__init__.py:145: RRuntimeWarning: The following objects are masked from ‘package:base’:\n",
      "\n",
      "    anyDuplicated, append, as.data.frame, cbind, colMeans, colnames,\n",
      "    colSums, do.call, duplicated, eval, evalq, Filter, Find, get, grep,\n",
      "    grepl, intersect, is.unsorted, lapply, lengths, Map, mapply, match,\n",
      "    mget, order, paste, pmax, pmax.int, pmin, pmin.int, Position, rank,\n",
      "    rbind, Reduce, rowMeans, rownames, rowSums, sapply, setdiff, sort,\n",
      "    table, tapply, union, unique, unsplit, which, which.max, which.min\n",
      "\n",
      "\n",
      "  warnings.warn(x, RRuntimeWarning)\n",
      "/anaconda3/lib/python3.6/site-packages/rpy2/rinterface/__init__.py:145: RRuntimeWarning: Loading required package: S4Vectors\n",
      "\n",
      "  warnings.warn(x, RRuntimeWarning)\n",
      "/anaconda3/lib/python3.6/site-packages/rpy2/rinterface/__init__.py:145: RRuntimeWarning: Loading required package: stats4\n",
      "\n",
      "  warnings.warn(x, RRuntimeWarning)\n",
      "/anaconda3/lib/python3.6/site-packages/rpy2/rinterface/__init__.py:145: RRuntimeWarning: \n",
      "Attaching package: ‘S4Vectors’\n",
      "\n",
      "\n",
      "  warnings.warn(x, RRuntimeWarning)\n",
      "/anaconda3/lib/python3.6/site-packages/rpy2/rinterface/__init__.py:145: RRuntimeWarning: The following object is masked from ‘package:tidyr’:\n",
      "\n",
      "    expand\n",
      "\n",
      "\n",
      "  warnings.warn(x, RRuntimeWarning)\n",
      "/anaconda3/lib/python3.6/site-packages/rpy2/rinterface/__init__.py:145: RRuntimeWarning: The following objects are masked from ‘package:dplyr’:\n",
      "\n",
      "    first, rename\n",
      "\n",
      "\n",
      "  warnings.warn(x, RRuntimeWarning)\n",
      "/anaconda3/lib/python3.6/site-packages/rpy2/rinterface/__init__.py:145: RRuntimeWarning: The following object is masked from ‘package:base’:\n",
      "\n",
      "    expand.grid\n",
      "\n",
      "\n",
      "  warnings.warn(x, RRuntimeWarning)\n",
      "/anaconda3/lib/python3.6/site-packages/rpy2/rinterface/__init__.py:145: RRuntimeWarning: Loading required package: IRanges\n",
      "\n",
      "  warnings.warn(x, RRuntimeWarning)\n",
      "/anaconda3/lib/python3.6/site-packages/rpy2/rinterface/__init__.py:145: RRuntimeWarning: \n",
      "Attaching package: ‘IRanges’\n",
      "\n",
      "\n",
      "  warnings.warn(x, RRuntimeWarning)\n",
      "/anaconda3/lib/python3.6/site-packages/rpy2/rinterface/__init__.py:145: RRuntimeWarning: The following objects are masked from ‘package:dplyr’:\n",
      "\n",
      "    collapse, desc, slice\n",
      "\n",
      "\n",
      "  warnings.warn(x, RRuntimeWarning)\n",
      "/anaconda3/lib/python3.6/site-packages/rpy2/rinterface/__init__.py:145: RRuntimeWarning: The following object is masked from ‘package:phyloseq’:\n",
      "\n",
      "    distance\n",
      "\n",
      "\n",
      "  warnings.warn(x, RRuntimeWarning)\n",
      "/anaconda3/lib/python3.6/site-packages/rpy2/rinterface/__init__.py:145: RRuntimeWarning: Loading required package: XVector\n",
      "\n",
      "  warnings.warn(x, RRuntimeWarning)\n",
      "/anaconda3/lib/python3.6/site-packages/rpy2/rinterface/__init__.py:145: RRuntimeWarning: \n",
      "Attaching package: ‘Biostrings’\n",
      "\n",
      "\n",
      "  warnings.warn(x, RRuntimeWarning)\n",
      "/anaconda3/lib/python3.6/site-packages/rpy2/rinterface/__init__.py:145: RRuntimeWarning: The following object is masked from ‘package:base’:\n",
      "\n",
      "    strsplit\n",
      "\n",
      "\n",
      "  warnings.warn(x, RRuntimeWarning)\n"
     ]
    }
   ],
   "source": [
    "%%R\n",
    "library(RDPutils)\n",
    "library(phyloseq)\n",
    "library(dplyr)\n",
    "library(tidyr)\n"
   ]
  },
  {
   "cell_type": "code",
   "execution_count": 7,
   "metadata": {},
   "outputs": [
    {
     "data": {
      "text/plain": [
       "           Domain                  Phylum                     Class\n",
       "1 d:Fungi(1.0000) p:Basidiomycota(1.0000)  c:Agaricomycetes(1.0000)\n",
       "2 d:Fungi(1.0000) p:Glomeromycota(1.0000)  c:Glomeromycetes(1.0000)\n",
       "3 d:Fungi(1.0000)    p:Ascomycota(1.0000) c:Dothideomycetes(1.0000)\n",
       "4 d:Fungi(1.0000) p:Glomeromycota(1.0000)  c:Glomeromycetes(1.0000)\n",
       "5 d:Fungi(1.0000) p:Glomeromycota(1.0000)  c:Glomeromycetes(1.0000)\n",
       "6 d:Fungi(1.0000) p:Glomeromycota(1.0000)  c:Glomeromycetes(1.0000)\n",
       "                   Order                    Family                 Genus\n",
       "1  o:Sebacinales(1.0000) f:Serendipitaceae(1.0000) g:Serendipita(1.0000)\n",
       "2   o:Glomerales(1.0000)     f:Glomeraceae(1.0000) g:Rhizophagus(1.0000)\n",
       "3 o:Pleosporales(0.9900)   f:Periconiaceae(0.8000)   g:Periconia(0.8000)\n",
       "4   o:Glomerales(1.0000)     f:Glomeraceae(1.0000) g:Rhizophagus(1.0000)\n",
       "5   o:Glomerales(1.0000)     f:Glomeraceae(1.0000) g:Rhizophagus(1.0000)\n",
       "6   o:Glomerales(1.0000)     f:Glomeraceae(1.0000)      g:Glomus(0.9900)\n",
       "                                           Species\n",
       "1       s:Serendipita_indica|SH197074.07FU(0.7900)\n",
       "2  s:Rhizophagus_irregularis|SH175527.07FU(0.8100)\n",
       "3             s:Periconia_sp|SH181421.07FU(0.7700)\n",
       "4  s:Rhizophagus_irregularis|SH175538.07FU(1.0000)\n",
       "5 s:Rhizophagus_intraradices|SH175546.07FU(0.9900)\n",
       "6                s:Glomus_sp|SH631175.07FU(0.2700)\n"
      ]
     },
     "metadata": {},
     "output_type": "display_data"
    }
   ],
   "source": [
    "%%R -i countFile \n",
    "Counts = read.delim(countFile, header = TRUE, sep = ',') \n",
    "\n",
    "TaxTab = Counts %>%\n",
    "    select(Taxonomy) %>%\n",
    "    separate(Taxonomy, c(\"Domain\", \"Phylum\", \"Class\", \"Order\", \"Family\", \"Genus\",\"Species\"), sep = \",\", \n",
    "             extra = \"warn\", fill = \"warn\")\n",
    "head(TaxTab)"
   ]
  },
  {
   "cell_type": "code",
   "execution_count": null,
   "metadata": {},
   "outputs": [],
   "source": []
  },
  {
   "cell_type": "code",
   "execution_count": 17,
   "metadata": {},
   "outputs": [
    {
     "data": {
      "text/plain": [
       "                    Barcode              Sample       Source Amplification\n",
       "Mock_Direct               1         Mock_Direct         Mock        Direct\n",
       "Mock_Sorghum_Direct       2 Mock_Sorghum_Direct Mock_Sorghum        Direct\n",
       "Mock_Nested               4         Mock_Nested         Mock        Nested\n",
       "Mock_Sorghum_Nested       5 Mock_Sorghum_Nested Mock_Sorghum        Nested\n",
       "Grassl_R1_Direct          6    Grassl_R1_Direct    Grassl_R1        Direct\n",
       "Grassl_R1_Nested          7    Grassl_R1_Nested    Grassl_R1        Nested\n",
       "                    Reactions\n",
       "Mock_Direct                 3\n",
       "Mock_Sorghum_Direct         3\n",
       "Mock_Nested                 3\n",
       "Mock_Sorghum_Nested         3\n",
       "Grassl_R1_Direct            3\n",
       "Grassl_R1_Nested            3\n"
      ]
     },
     "metadata": {},
     "output_type": "display_data"
    }
   ],
   "source": [
    "%%R -i metadataFile\n",
    "Md = read.delim(metadataFile)\n",
    "rownames(Md) = Md$Sample\n",
    "head(Md)"
   ]
  },
  {
   "cell_type": "code",
   "execution_count": 54,
   "metadata": {},
   "outputs": [
    {
     "data": {
      "text/plain": [
       "   OTU_4\n",
       "1  OTU_5\n",
       "2  OTU_6\n",
       "3  OTU_1\n",
       "4  OTU_2\n",
       "5 OTU_10\n",
       "6  OTU_9\n",
       "   d.Fungi.1.0000..p.Glomeromycota.1.0000..c.Glomeromycetes.1.0000..o.Glomerales.1.0000..f.Glomeraceae.1.0000..g.Rhizophagus.1.0000..s.Rhizophagus_irregularis.SH175538.07FU.1.0000.\n",
       "1 d:Fungi(1.0000),p:Glomeromycota(1.0000),c:Glomeromycetes(1.0000),o:Glomerales(1.0000),f:Glomeraceae(1.0000),g:Rhizophagus(1.0000),s:Rhizophagus_intraradices|SH175546.07FU(0.9900)\n",
       "2                     d:Fungi(1.0000),p:Glomeromycota(1.0000),c:Glomeromycetes(1.0000),o:Glomerales(1.0000),f:Glomeraceae(1.0000),g:Glomus(0.9900),s:Glomus_sp|SH631175.07FU(0.2700)\n",
       "3  d:Fungi(1.0000),p:Basidiomycota(1.0000),c:Agaricomycetes(1.0000),o:Sebacinales(1.0000),f:Serendipitaceae(1.0000),g:Serendipita(1.0000),s:Serendipita_indica|SH197074.07FU(0.7900)\n",
       "4  d:Fungi(1.0000),p:Glomeromycota(1.0000),c:Glomeromycetes(1.0000),o:Glomerales(1.0000),f:Glomeraceae(1.0000),g:Rhizophagus(1.0000),s:Rhizophagus_irregularis|SH175527.07FU(0.8100)\n",
       "5 d:Fungi(1.0000),p:Glomeromycota(1.0000),c:Glomeromycetes(1.0000),o:Glomerales(1.0000),f:Glomeraceae(1.0000),g:Rhizophagus(1.0000),s:Rhizophagus_intraradices|SH175553.07FU(1.0000)\n",
       "6        d:Fungi(1.0000),p:Glomeromycota(1.0000),c:Glomeromycetes(1.0000),o:Gigasporales(1.0000),f:Gigasporaceae(1.0000),g:Gigaspora(1.0000),s:Gigaspora_rosea|SH180804.07FU(0.7000)\n",
       "  X.\n",
       "1  +\n",
       "2  +\n",
       "3  +\n",
       "4  +\n",
       "5  +\n",
       "6  +\n",
       "   d.Fungi.p.Glomeromycota.c.Glomeromycetes.o.Glomerales.f.Glomeraceae.g.Rhizophagus.s.Rhizophagus_irregularis.SH175538.07FU\n",
       "1 d:Fungi,p:Glomeromycota,c:Glomeromycetes,o:Glomerales,f:Glomeraceae,g:Rhizophagus,s:Rhizophagus_intraradices|SH175546.07FU\n",
       "2                                               d:Fungi,p:Glomeromycota,c:Glomeromycetes,o:Glomerales,f:Glomeraceae,g:Glomus\n",
       "3                                     d:Fungi,p:Basidiomycota,c:Agaricomycetes,o:Sebacinales,f:Serendipitaceae,g:Serendipita\n",
       "4  d:Fungi,p:Glomeromycota,c:Glomeromycetes,o:Glomerales,f:Glomeraceae,g:Rhizophagus,s:Rhizophagus_irregularis|SH175527.07FU\n",
       "5 d:Fungi,p:Glomeromycota,c:Glomeromycetes,o:Glomerales,f:Glomeraceae,g:Rhizophagus,s:Rhizophagus_intraradices|SH175553.07FU\n",
       "6                                        d:Fungi,p:Glomeromycota,c:Glomeromycetes,o:Gigasporales,f:Gigasporaceae,g:Gigaspora\n"
      ]
     },
     "metadata": {},
     "output_type": "display_data"
    }
   ],
   "source": [
    "%%R \n",
    "\n",
    "colnames(Counts) = Md$Sample # will only work if they are in the same order\n",
    "\n",
    "# ps <- phyloseq(otu_table(Counts, taxa_are_rows=TRUE), \n",
    "#               sample_data(Md))\n",
    "\n",
    "Tdf = read.delim(TaxFile)\n",
    "head(Tdf)\n",
    "#, \n",
    "#               tax_table(tmp2))\n",
    "# # loading\n",
    "# setwd(workDir)\n",
    "\n",
    "# # ## biom file\n",
    "# physeq = import_biom(biomFile)\n",
    "# # physeq\n",
    "\n",
    "#physeq = merge_phyloseq(physeq,sample.data)"
   ]
  }
 ],
 "metadata": {
  "kernelspec": {
   "display_name": "Python 3",
   "language": "python",
   "name": "python3"
  },
  "language_info": {
   "codemirror_mode": {
    "name": "ipython",
    "version": 3
   },
   "file_extension": ".py",
   "mimetype": "text/x-python",
   "name": "python",
   "nbconvert_exporter": "python",
   "pygments_lexer": "ipython3",
   "version": "3.6.4"
  }
 },
 "nbformat": 4,
 "nbformat_minor": 2
}
