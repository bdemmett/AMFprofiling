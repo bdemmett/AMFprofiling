{
 "cells": [
  {
   "cell_type": "markdown",
   "metadata": {},
   "source": [
    "# Evaluate reproducability "
   ]
  },
  {
   "cell_type": "code",
   "execution_count": 1,
   "metadata": {},
   "outputs": [],
   "source": [
    "# countFile = '/Users/bryanemmett/Box/research/BTI/DOE_SorghumMicrobiome/AMF_PacBio/AMFprofiling/data/usearch_OTU_id97_count.txt'\n",
    "# TaxFile = '/Users/bryanemmett/Box/research/BTI/DOE_SorghumMicrobiome/AMF_PacBio/AMFprofiling/data/all_re_filtered_lensort_OTU_id97_sintax_rm_unidentifiedG.txt'\n",
    "# metadataFile = '/Users/bryanemmett/Box/research/BTI/DOE_SorghumMicrobiome/AMF_PacBio/AMFprofiling/Test4_metadata.txt'\n",
    "workDir = '~/Box/research/BTI/DOE_SorghumMicrobiome/AMF_PacBio/AMFprofiling/data/'"
   ]
  },
  {
   "cell_type": "code",
   "execution_count": 2,
   "metadata": {},
   "outputs": [],
   "source": [
    "%load_ext rpy2.ipython"
   ]
  },
  {
   "cell_type": "code",
   "execution_count": 80,
   "metadata": {},
   "outputs": [],
   "source": [
    "# %%R\n",
    "# library(devtools)\n",
    "# install_github(\"jfq3/RDPutils\")"
   ]
  },
  {
   "cell_type": "code",
   "execution_count": 3,
   "metadata": {},
   "outputs": [],
   "source": [
    "%%R\n",
    "# library(RDPutils)\n",
    "library(phyloseq)\n",
    "# library(dplyr)\n",
    "# library(tidyr)\n",
    "# library(reshape2)\n",
    "# library(ggplot2)\n",
    "# library(gridExtra)\n"
   ]
  },
  {
   "cell_type": "code",
   "execution_count": null,
   "metadata": {},
   "outputs": [],
   "source": []
  },
  {
   "cell_type": "code",
   "execution_count": 4,
   "metadata": {},
   "outputs": [
    {
     "data": {
      "text/plain": [
       "phyloseq-class experiment-level object\n",
       "otu_table()   OTU Table:         [ 33 taxa and 12 samples ]\n",
       "tax_table()   Taxonomy Table:    [ 33 taxa by 1 taxonomic ranks ]\n"
      ]
     },
     "metadata": {},
     "output_type": "display_data"
    }
   ],
   "source": [
    "%%R -i workDir\n",
    "setwd(workDir)\n",
    "physeq1 = import_biom(\"test1.biom\")\n",
    "physeq1"
   ]
  },
  {
   "cell_type": "code",
   "execution_count": 5,
   "metadata": {},
   "outputs": [
    {
     "data": {
      "text/plain": [
       "Taxonomy Table:     [33 taxa by 1 taxonomic ranks]:\n",
       "       Rank1                                                                                                                          \n",
       "OTU_0  \"d:Fungi,p:Glomeromycota\"                                                                                                      \n",
       "OTU_1  \"d:Fungi,p:Basidiomycota,c:Agaricomycetes,o:Sebacinales\"                                                                       \n",
       "OTU_2  \"d:Fungi,p:Glomeromycota,c:Paraglomeromycetes,o:Paraglomerales\"                                                                \n",
       "OTU_3  \"d:Fungi,p:Glomeromycota,c:Glomeromycotina_cls_Incertae_sedis,o:GS24,f:unidentified,g:unidentified,s:GS24_sp|SH527533.07FU\"    \n",
       "OTU_4  \"d:Fungi,p:Ascomycota,c:Eurotiomycetes,o:Chaetothyriales,f:unidentified,g:unidentified\"                                        \n",
       "OTU_5  \"d:Fungi,p:Ascomycota,c:Sordariomycetes,o:Hypocreales,f:Nectriaceae,g:Fusarium,s:Fusarium_sp|SH204421.07FU\"                    \n",
       "OTU_6  \"d:Fungi,p:Glomeromycota,c:Glomeromycetes,o:Glomerales,f:Claroideoglomeraceae,g:Claroideoglomus\"                               \n",
       "OTU_7  \"d:Fungi,p:Ascomycota\"                                                                                                         \n",
       "OTU_8  \"d:Fungi,p:Ascomycota,c:Dothideomycetes,o:Pleosporales,f:Pleosporaceae,g:unidentified\"                                         \n",
       "OTU_9  \"d:Fungi,p:Glomeromycota,c:Paraglomeromycetes,o:Paraglomerales,f:unidentified,g:unidentified\"                                  \n",
       "OTU_10 \"d:Fungi,p:Glomeromycota,c:Glomeromycetes,o:Diversisporales,f:Acaulosporaceae,g:Acaulospora\"                                   \n",
       "OTU_11 \"d:Fungi,p:Glomeromycota,c:unidentified,o:unidentified,f:unidentified,g:unidentified\"                                          \n",
       "OTU_12 \"d:Fungi,p:Ascomycota,c:Sordariomycetes,o:Hypocreales,f:Ophiocordycipitaceae\"                                                  \n",
       "OTU_13 \"d:Fungi,p:Glomeromycota,c:Glomeromycetes,o:Diversisporales,f:Diversisporaceae,g:Corymbiglomus\"                                \n",
       "OTU_14 \"d:Fungi,p:Basidiomycota,c:Agaricomycetes,o:Sebacinales\"                                                                       \n",
       "OTU_15 \"d:Fungi,p:Glomeromycota\"                                                                                                      \n",
       "OTU_16 \"d:Fungi,p:Ascomycota,c:Eurotiomycetes,o:Eurotiales,f:Trichocomaceae,g:Talaromyces\"                                            \n",
       "OTU_17 \"d:Fungi,p:Glomeromycota,c:unidentified,o:unidentified,f:unidentified,g:unidentified\"                                          \n",
       "OTU_18 \"d:Fungi,p:Ascomycota\"                                                                                                         \n",
       "OTU_19 \"d:Fungi,p:Ascomycota,c:Eurotiomycetes,o:Chaetothyriales\"                                                                      \n",
       "OTU_20 \"d:Fungi,p:Glomeromycota,c:Paraglomeromycetes,o:Paraglomerales,f:unidentified,g:unidentified,s:Paraglomerales_sp|SH640089.07FU\"\n",
       "OTU_21 \"d:Fungi,p:Glomeromycota\"                                                                                                      \n",
       "OTU_22 \"d:Fungi,p:Basidiomycota,c:Agaricomycetes\"                                                                                     \n",
       "OTU_23 \"d:Fungi,p:Glomeromycota\"                                                                                                      \n",
       "OTU_24 \"d:Fungi\"                                                                                                                      \n",
       "OTU_25 \"d:Fungi,p:Glomeromycota,c:Glomeromycetes,o:Glomerales,f:Glomeraceae,g:unidentified,s:Glomeraceae_sp|SH010590.07FU\"            \n",
       "OTU_26 \"d:Fungi,p:Basidiomycota,c:Agaricomycetes\"                                                                                     \n",
       "OTU_27 \"d:Fungi,p:Glomeromycota,c:Glomeromycetes,o:Glomerales,f:Glomeraceae,g:Rhizophagus,s:Rhizophagus_intraradices|SH175546.07FU\"   \n",
       "OTU_28 \"d:Fungi,p:Glomeromycota,c:Glomeromycetes,o:Glomerales,f:Glomeraceae\"                                                          \n",
       "OTU_29 \"d:Fungi,p:Glomeromycota,c:Glomeromycetes,o:Diversisporales,f:Acaulosporaceae,g:Acaulospora\"                                   \n",
       "OTU_30 \"d:Fungi,p:Ascomycota,c:Sordariomycetes,o:Hypocreales,f:Hypocreaceae,g:Trichoderma\"                                            \n",
       "OTU_31 \"d:Fungi\"                                                                                                                      \n",
       "OTU_32 \"d:Fungi\"                                                                                                                      \n"
      ]
     },
     "metadata": {},
     "output_type": "display_data"
    }
   ],
   "source": [
    "%%R\n",
    "tax_table(physeq1)"
   ]
  },
  {
   "cell_type": "code",
   "execution_count": 6,
   "metadata": {},
   "outputs": [
    {
     "data": {
      "text/plain": [
       "phyloseq-class experiment-level object\n",
       "otu_table()   OTU Table:         [ 33 taxa and 12 samples ]\n",
       "tax_table()   Taxonomy Table:    [ 33 taxa by 1 taxonomic ranks ]\n"
      ]
     },
     "metadata": {},
     "output_type": "display_data"
    }
   ],
   "source": [
    "%%R\n",
    "physeq2 = import_biom(\"test2.biom\")\n",
    "physeq2"
   ]
  },
  {
   "cell_type": "code",
   "execution_count": 7,
   "metadata": {},
   "outputs": [
    {
     "data": {
      "text/plain": [
       "Taxonomy Table:     [33 taxa by 1 taxonomic ranks]:\n",
       "       Rank1                                                                                                                          \n",
       "OTU_0  \"d:Fungi,p:Glomeromycota\"                                                                                                      \n",
       "OTU_1  \"d:Fungi,p:Basidiomycota,c:Agaricomycetes,o:Sebacinales\"                                                                       \n",
       "OTU_2  \"d:Fungi,p:Glomeromycota,c:Paraglomeromycetes,o:Paraglomerales\"                                                                \n",
       "OTU_3  \"d:Fungi,p:Glomeromycota,c:Glomeromycotina_cls_Incertae_sedis,o:GS24,f:unidentified,g:unidentified,s:GS24_sp|SH527533.07FU\"    \n",
       "OTU_4  \"d:Fungi,p:Ascomycota,c:Eurotiomycetes,o:Chaetothyriales,f:unidentified,g:unidentified\"                                        \n",
       "OTU_5  \"d:Fungi,p:Ascomycota,c:Sordariomycetes,o:Hypocreales,f:Nectriaceae,g:Fusarium,s:Fusarium_sp|SH204421.07FU\"                    \n",
       "OTU_6  \"d:Fungi,p:Glomeromycota,c:Glomeromycetes,o:Glomerales,f:Claroideoglomeraceae,g:Claroideoglomus\"                               \n",
       "OTU_7  \"d:Fungi,p:Ascomycota\"                                                                                                         \n",
       "OTU_8  \"d:Fungi,p:Ascomycota,c:Dothideomycetes,o:Pleosporales,f:Pleosporaceae,g:unidentified\"                                         \n",
       "OTU_9  \"d:Fungi,p:Glomeromycota,c:Paraglomeromycetes,o:Paraglomerales,f:unidentified,g:unidentified\"                                  \n",
       "OTU_10 \"d:Fungi,p:Glomeromycota,c:Glomeromycetes,o:Diversisporales,f:Acaulosporaceae,g:Acaulospora\"                                   \n",
       "OTU_11 \"d:Fungi,p:Glomeromycota,c:unidentified,o:unidentified,f:unidentified,g:unidentified\"                                          \n",
       "OTU_12 \"d:Fungi,p:Ascomycota,c:Sordariomycetes,o:Hypocreales,f:Ophiocordycipitaceae\"                                                  \n",
       "OTU_13 \"d:Fungi,p:Glomeromycota,c:Glomeromycetes,o:Diversisporales,f:Diversisporaceae,g:Corymbiglomus\"                                \n",
       "OTU_14 \"d:Fungi,p:Basidiomycota,c:Agaricomycetes,o:Sebacinales\"                                                                       \n",
       "OTU_15 \"d:Fungi,p:Glomeromycota\"                                                                                                      \n",
       "OTU_16 \"d:Fungi,p:Ascomycota,c:Eurotiomycetes,o:Eurotiales,f:Trichocomaceae,g:Talaromyces\"                                            \n",
       "OTU_17 \"d:Fungi,p:Glomeromycota,c:unidentified,o:unidentified,f:unidentified,g:unidentified\"                                          \n",
       "OTU_18 \"d:Fungi,p:Ascomycota\"                                                                                                         \n",
       "OTU_19 \"d:Fungi,p:Ascomycota,c:Eurotiomycetes,o:Chaetothyriales\"                                                                      \n",
       "OTU_20 \"d:Fungi,p:Glomeromycota,c:Paraglomeromycetes,o:Paraglomerales,f:unidentified,g:unidentified,s:Paraglomerales_sp|SH640089.07FU\"\n",
       "OTU_21 \"d:Fungi,p:Glomeromycota\"                                                                                                      \n",
       "OTU_22 \"d:Fungi,p:Basidiomycota,c:Agaricomycetes\"                                                                                     \n",
       "OTU_23 \"d:Fungi,p:Glomeromycota\"                                                                                                      \n",
       "OTU_24 \"d:Fungi\"                                                                                                                      \n",
       "OTU_25 \"d:Fungi,p:Glomeromycota,c:Glomeromycetes,o:Glomerales,f:Glomeraceae,g:unidentified,s:Glomeraceae_sp|SH010590.07FU\"            \n",
       "OTU_26 \"d:Fungi,p:Basidiomycota,c:Agaricomycetes\"                                                                                     \n",
       "OTU_27 \"d:Fungi,p:Glomeromycota,c:Glomeromycetes,o:Glomerales,f:Glomeraceae,g:Rhizophagus,s:Rhizophagus_intraradices|SH175546.07FU\"   \n",
       "OTU_28 \"d:Fungi,p:Glomeromycota,c:Glomeromycetes,o:Glomerales,f:Glomeraceae\"                                                          \n",
       "OTU_29 \"d:Fungi,p:Glomeromycota,c:Glomeromycetes,o:Diversisporales,f:Acaulosporaceae,g:Acaulospora\"                                   \n",
       "OTU_30 \"d:Fungi,p:Ascomycota,c:Sordariomycetes,o:Hypocreales,f:Hypocreaceae,g:Trichoderma\"                                            \n",
       "OTU_31 \"d:Fungi\"                                                                                                                      \n",
       "OTU_32 \"d:Fungi\"                                                                                                                      \n"
      ]
     },
     "metadata": {},
     "output_type": "display_data"
    }
   ],
   "source": [
    "%%R\n",
    "tax_table(physeq2)"
   ]
  },
  {
   "cell_type": "markdown",
   "metadata": {},
   "source": [
    "* need to separate columns in tax table"
   ]
  }
 ],
 "metadata": {
  "kernelspec": {
   "display_name": "Python 3",
   "language": "python",
   "name": "python3"
  },
  "language_info": {
   "codemirror_mode": {
    "name": "ipython",
    "version": 3
   },
   "file_extension": ".py",
   "mimetype": "text/x-python",
   "name": "python",
   "nbconvert_exporter": "python",
   "pygments_lexer": "ipython3",
   "version": "3.6.4"
  }
 },
 "nbformat": 4,
 "nbformat_minor": 2
}
