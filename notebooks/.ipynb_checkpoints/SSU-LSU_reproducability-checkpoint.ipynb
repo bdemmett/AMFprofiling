{
 "cells": [
  {
   "cell_type": "markdown",
   "metadata": {},
   "source": [
    "# Evaluate reproducability "
   ]
  },
  {
   "cell_type": "code",
   "execution_count": 1,
   "metadata": {},
   "outputs": [],
   "source": [
    "countFile = '/Users/bryanemmett/Box/research/BTI/DOE_SorghumMicrobiome/AMF_PacBio/AMFprofiling/data/usearch_OTU_count_tax_id97.txt.txt'\n",
    "#TaxFile = '/Users/bryanemmett/Box/research/BTI/DOE_SorghumMicrobiome/AMF_PacBio/AMFprofiling/data/all_re_filtered_lensort_OTU_id97_sintax_rm_unidentifiedG.txt'\n",
    "#metadataFile = '~/Box/research/BTI/DOE_SorghumMicrobiome/AMF_PacBio/AMFprofiling/Test4_metadata.txt'\n",
    "workDir = '~/Box/research/BTI/DOE_SorghumMicrobiome/AMF_PacBio/AMFprofiling/data/'"
   ]
  },
  {
   "cell_type": "code",
   "execution_count": 3,
   "metadata": {},
   "outputs": [
    {
     "name": "stdout",
     "output_type": "stream",
     "text": [
      "The rpy2.ipython extension is already loaded. To reload it, use:\n",
      "  %reload_ext rpy2.ipython\n"
     ]
    }
   ],
   "source": [
    "#%load_ext rpy2.ipython\n",
    "%load_ext rpy2.ipython"
   ]
  },
  {
   "cell_type": "code",
   "execution_count": 4,
   "metadata": {},
   "outputs": [
    {
     "name": "stderr",
     "output_type": "stream",
     "text": [
      "/anaconda3/lib/python3.6/site-packages/rpy2/rinterface/__init__.py:145: RRuntimeWarning: \n",
      "Attaching package: ‘dplyr’\n",
      "\n",
      "\n",
      "  warnings.warn(x, RRuntimeWarning)\n",
      "/anaconda3/lib/python3.6/site-packages/rpy2/rinterface/__init__.py:145: RRuntimeWarning: The following objects are masked from ‘package:stats’:\n",
      "\n",
      "    filter, lag\n",
      "\n",
      "\n",
      "  warnings.warn(x, RRuntimeWarning)\n",
      "/anaconda3/lib/python3.6/site-packages/rpy2/rinterface/__init__.py:145: RRuntimeWarning: The following objects are masked from ‘package:base’:\n",
      "\n",
      "    intersect, setdiff, setequal, union\n",
      "\n",
      "\n",
      "  warnings.warn(x, RRuntimeWarning)\n"
     ]
    }
   ],
   "source": [
    "%%R\n",
    "library(phyloseq)\n",
    "library(dplyr)\n"
   ]
  },
  {
   "cell_type": "code",
   "execution_count": 6,
   "metadata": {},
   "outputs": [
    {
     "name": "stdout",
     "output_type": "stream",
     "text": [
      "\n",
      "Error in file(file, \"rt\") : cannot open the connection\n"
     ]
    },
    {
     "name": "stderr",
     "output_type": "stream",
     "text": [
      "/anaconda3/lib/python3.6/site-packages/rpy2/rinterface/__init__.py:145: RRuntimeWarning: Error in file(file, \"rt\") : cannot open the connection\n",
      "\n",
      "  warnings.warn(x, RRuntimeWarning)\n",
      "/anaconda3/lib/python3.6/site-packages/rpy2/rinterface/__init__.py:145: RRuntimeWarning: In addition: \n",
      "  warnings.warn(x, RRuntimeWarning)\n",
      "/anaconda3/lib/python3.6/site-packages/rpy2/rinterface/__init__.py:145: RRuntimeWarning: Warning message:\n",
      "\n",
      "  warnings.warn(x, RRuntimeWarning)\n",
      "/anaconda3/lib/python3.6/site-packages/rpy2/rinterface/__init__.py:145: RRuntimeWarning: In file(file, \"rt\") :\n",
      "  warnings.warn(x, RRuntimeWarning)\n",
      "/anaconda3/lib/python3.6/site-packages/rpy2/rinterface/__init__.py:145: RRuntimeWarning: \n",
      " \n",
      "  warnings.warn(x, RRuntimeWarning)\n",
      "/anaconda3/lib/python3.6/site-packages/rpy2/rinterface/__init__.py:145: RRuntimeWarning:  cannot open file '/Users/bryanemmett/Box/research/BTI/DOE_SorghumMicrobiome/AMF_PacBio/AMFprofiling/data/usearch_OTU_count_tax_id97.txt.txt': No such file or directory\n",
      "\n",
      "  warnings.warn(x, RRuntimeWarning)\n"
     ]
    }
   ],
   "source": [
    "%%R -i countFile \n",
    "Counts = read.delim(countFile, header = TRUE) \n",
    "head(Counts)"
   ]
  },
  {
   "cell_type": "code",
   "execution_count": 54,
   "metadata": {},
   "outputs": [
    {
     "data": {
      "text/plain": [
       "   OTU_4\n",
       "1  OTU_5\n",
       "2  OTU_6\n",
       "3  OTU_1\n",
       "4  OTU_2\n",
       "5 OTU_10\n",
       "6  OTU_9\n",
       "   d.Fungi.1.0000..p.Glomeromycota.1.0000..c.Glomeromycetes.1.0000..o.Glomerales.1.0000..f.Glomeraceae.1.0000..g.Rhizophagus.1.0000..s.Rhizophagus_irregularis.SH175538.07FU.1.0000.\n",
       "1 d:Fungi(1.0000),p:Glomeromycota(1.0000),c:Glomeromycetes(1.0000),o:Glomerales(1.0000),f:Glomeraceae(1.0000),g:Rhizophagus(1.0000),s:Rhizophagus_intraradices|SH175546.07FU(0.9900)\n",
       "2                     d:Fungi(1.0000),p:Glomeromycota(1.0000),c:Glomeromycetes(1.0000),o:Glomerales(1.0000),f:Glomeraceae(1.0000),g:Glomus(0.9900),s:Glomus_sp|SH631175.07FU(0.2700)\n",
       "3  d:Fungi(1.0000),p:Basidiomycota(1.0000),c:Agaricomycetes(1.0000),o:Sebacinales(1.0000),f:Serendipitaceae(1.0000),g:Serendipita(1.0000),s:Serendipita_indica|SH197074.07FU(0.7900)\n",
       "4  d:Fungi(1.0000),p:Glomeromycota(1.0000),c:Glomeromycetes(1.0000),o:Glomerales(1.0000),f:Glomeraceae(1.0000),g:Rhizophagus(1.0000),s:Rhizophagus_irregularis|SH175527.07FU(0.8100)\n",
       "5 d:Fungi(1.0000),p:Glomeromycota(1.0000),c:Glomeromycetes(1.0000),o:Glomerales(1.0000),f:Glomeraceae(1.0000),g:Rhizophagus(1.0000),s:Rhizophagus_intraradices|SH175553.07FU(1.0000)\n",
       "6        d:Fungi(1.0000),p:Glomeromycota(1.0000),c:Glomeromycetes(1.0000),o:Gigasporales(1.0000),f:Gigasporaceae(1.0000),g:Gigaspora(1.0000),s:Gigaspora_rosea|SH180804.07FU(0.7000)\n",
       "  X.\n",
       "1  +\n",
       "2  +\n",
       "3  +\n",
       "4  +\n",
       "5  +\n",
       "6  +\n",
       "   d.Fungi.p.Glomeromycota.c.Glomeromycetes.o.Glomerales.f.Glomeraceae.g.Rhizophagus.s.Rhizophagus_irregularis.SH175538.07FU\n",
       "1 d:Fungi,p:Glomeromycota,c:Glomeromycetes,o:Glomerales,f:Glomeraceae,g:Rhizophagus,s:Rhizophagus_intraradices|SH175546.07FU\n",
       "2                                               d:Fungi,p:Glomeromycota,c:Glomeromycetes,o:Glomerales,f:Glomeraceae,g:Glomus\n",
       "3                                     d:Fungi,p:Basidiomycota,c:Agaricomycetes,o:Sebacinales,f:Serendipitaceae,g:Serendipita\n",
       "4  d:Fungi,p:Glomeromycota,c:Glomeromycetes,o:Glomerales,f:Glomeraceae,g:Rhizophagus,s:Rhizophagus_irregularis|SH175527.07FU\n",
       "5 d:Fungi,p:Glomeromycota,c:Glomeromycetes,o:Glomerales,f:Glomeraceae,g:Rhizophagus,s:Rhizophagus_intraradices|SH175553.07FU\n",
       "6                                        d:Fungi,p:Glomeromycota,c:Glomeromycetes,o:Gigasporales,f:Gigasporaceae,g:Gigaspora\n"
      ]
     },
     "metadata": {},
     "output_type": "display_data"
    }
   ],
   "source": [
    "%%R -i countFile -i metadataFile -i TaxFile \n",
    "Counts = read.delim(countFile, header = TRUE) \n",
    "row.names(Counts) = Counts$X.OTU_ID  \n",
    "Counts = Counts %>% select(-X.OTU_ID)\n",
    "\n",
    "#head(Counts)\n",
    "\n",
    "Md = read.delim(metadataFile)\n",
    "rownames(Md) = Md$Sample\n",
    "\n",
    "colnames(Counts) = Md$Sample # will only work if they are in the same order\n",
    "\n",
    "# ps <- phyloseq(otu_table(Counts, taxa_are_rows=TRUE), \n",
    "#               sample_data(Md))\n",
    "\n",
    "Tdf = read.delim(TaxFile)\n",
    "head(Tdf)\n",
    "#, \n",
    "#               tax_table(tmp2))\n",
    "# # loading\n",
    "# setwd(workDir)\n",
    "\n",
    "# # ## biom file\n",
    "# physeq = import_biom(biomFile)\n",
    "# # physeq\n",
    "\n",
    "#physeq = merge_phyloseq(physeq,sample.data)"
   ]
  }
 ],
 "metadata": {
  "kernelspec": {
   "display_name": "Python 3",
   "language": "python",
   "name": "python3"
  },
  "language_info": {
   "codemirror_mode": {
    "name": "ipython",
    "version": 3
   },
   "file_extension": ".py",
   "mimetype": "text/x-python",
   "name": "python",
   "nbconvert_exporter": "python",
   "pygments_lexer": "ipython3",
   "version": "3.6.4"
  }
 },
 "nbformat": 4,
 "nbformat_minor": 2
}
